{
 "cells": [
  {
   "cell_type": "code",
   "execution_count": 1,
   "metadata": {},
   "outputs": [],
   "source": [
    "import os\n",
    "import re\n",
    "from typing import List\n",
    "\n",
    "import pandas as pd\n",
    "import numpy as np\n",
    "from datasets import load_dataset"
   ]
  },
  {
   "cell_type": "code",
   "execution_count": 2,
   "metadata": {},
   "outputs": [],
   "source": [
    "from kowit24_evaluation import check_interpretation"
   ]
  },
  {
   "cell_type": "code",
   "execution_count": 3,
   "metadata": {},
   "outputs": [],
   "source": [
    "# configs\n",
    "PROJECT_PATH = \"/home/alex/KoWit-24_public\""
   ]
  },
  {
   "cell_type": "code",
   "execution_count": 4,
   "metadata": {},
   "outputs": [],
   "source": [
    "data_files = {\"test\": \"dataset.csv\", \"dev\": \"dev_dataset.csv\"}\n",
    "dataset = load_dataset(\"Humor-Research/KoWit-24\", data_files=data_files)"
   ]
  },
  {
   "cell_type": "code",
   "execution_count": 5,
   "metadata": {},
   "outputs": [
    {
     "name": "stdout",
     "output_type": "stream",
     "text": [
      "(2500, 7)\n"
     ]
    }
   ],
   "source": [
    "dataset = pd.DataFrame().from_dict(dataset[\"test\"])\n",
    "print(dataset.shape)"
   ]
  },
  {
   "cell_type": "code",
   "execution_count": 6,
   "metadata": {},
   "outputs": [
    {
     "data": {
      "text/html": [
       "<div>\n",
       "<style scoped>\n",
       "    .dataframe tbody tr th:only-of-type {\n",
       "        vertical-align: middle;\n",
       "    }\n",
       "\n",
       "    .dataframe tbody tr th {\n",
       "        vertical-align: top;\n",
       "    }\n",
       "\n",
       "    .dataframe thead th {\n",
       "        text-align: right;\n",
       "    }\n",
       "</style>\n",
       "<table border=\"1\" class=\"dataframe\">\n",
       "  <thead>\n",
       "    <tr style=\"text-align: right;\">\n",
       "      <th></th>\n",
       "      <th>annotations</th>\n",
       "      <th>summary</th>\n",
       "      <th>is_wordplay</th>\n",
       "      <th>date</th>\n",
       "      <th>article_url</th>\n",
       "      <th>headline</th>\n",
       "      <th>lead</th>\n",
       "    </tr>\n",
       "  </thead>\n",
       "  <tbody>\n",
       "    <tr>\n",
       "      <th>0</th>\n",
       "      <td>None</td>\n",
       "      <td>Жилищный нацпроект помимо количественных целей...</td>\n",
       "      <td>False</td>\n",
       "      <td>2021-12-16</td>\n",
       "      <td>https://www.kommersant.ru/doc/5130217</td>\n",
       "      <td>Комфортная среда</td>\n",
       "      <td>Городскую среду улучшают с учетом мнения жителей</td>\n",
       "    </tr>\n",
       "  </tbody>\n",
       "</table>\n",
       "</div>"
      ],
      "text/plain": [
       "  annotations                                            summary  is_wordplay  \\\n",
       "0        None  Жилищный нацпроект помимо количественных целей...        False   \n",
       "\n",
       "         date                            article_url          headline  \\\n",
       "0  2021-12-16  https://www.kommersant.ru/doc/5130217  Комфортная среда   \n",
       "\n",
       "                                               lead  \n",
       "0  Городскую среду улучшают с учетом мнения жителей  "
      ]
     },
     "execution_count": 6,
     "metadata": {},
     "output_type": "execute_result"
    }
   ],
   "source": [
    "dataset.head(1)"
   ]
  },
  {
   "cell_type": "code",
   "execution_count": 7,
   "metadata": {},
   "outputs": [],
   "source": [
    "df_gigachat_lite = pd.read_json(\n",
    "    os.path.join(\n",
    "        PROJECT_PATH,\n",
    "        \"Data/predictions/wordplay_interpretation_gigachat_lite_predictions_extended.json\"\n",
    "    ),\n",
    "    orient=\"index\"\n",
    ")"
   ]
  },
  {
   "cell_type": "code",
   "execution_count": 8,
   "metadata": {},
   "outputs": [
    {
     "data": {
      "text/html": [
       "<div>\n",
       "<style scoped>\n",
       "    .dataframe tbody tr th:only-of-type {\n",
       "        vertical-align: middle;\n",
       "    }\n",
       "\n",
       "    .dataframe tbody tr th {\n",
       "        vertical-align: top;\n",
       "    }\n",
       "\n",
       "    .dataframe thead th {\n",
       "        text-align: right;\n",
       "    }\n",
       "</style>\n",
       "<table border=\"1\" class=\"dataframe\">\n",
       "  <thead>\n",
       "    <tr style=\"text-align: right;\">\n",
       "      <th></th>\n",
       "      <th>user_prompt</th>\n",
       "      <th>system_prompt</th>\n",
       "      <th>gigachat_lite_preds</th>\n",
       "    </tr>\n",
       "  </thead>\n",
       "  <tbody>\n",
       "    <tr>\n",
       "      <th>1383</th>\n",
       "      <td>Заголовок новости: Лучше сидя, чем на коленях....</td>\n",
       "      <td>\\nПроанализируй заголовок новости в контексте ...</td>\n",
       "      <td>В заголовке новости \"Лучше сидя, чем на коленя...</td>\n",
       "    </tr>\n",
       "  </tbody>\n",
       "</table>\n",
       "</div>"
      ],
      "text/plain": [
       "                                            user_prompt  \\\n",
       "1383  Заголовок новости: Лучше сидя, чем на коленях....   \n",
       "\n",
       "                                          system_prompt  \\\n",
       "1383  \\nПроанализируй заголовок новости в контексте ...   \n",
       "\n",
       "                                    gigachat_lite_preds  \n",
       "1383  В заголовке новости \"Лучше сидя, чем на коленя...  "
      ]
     },
     "execution_count": 8,
     "metadata": {},
     "output_type": "execute_result"
    }
   ],
   "source": [
    "df_gigachat_lite.sample(1)"
   ]
  },
  {
   "cell_type": "code",
   "execution_count": 9,
   "metadata": {},
   "outputs": [],
   "source": [
    "df_gigachat_max = pd.read_json(\n",
    "    os.path.join(\n",
    "        PROJECT_PATH,\n",
    "        \"Data/predictions/wordplay_interpretation_gigachat_max_predictions_extended.json\"\n",
    "    ),\n",
    "    orient=\"index\"\n",
    ")"
   ]
  },
  {
   "cell_type": "code",
   "execution_count": 10,
   "metadata": {},
   "outputs": [],
   "source": [
    "df_gigachat_max[\"gigachat_max_pred\"].fillna(\"что-то в вашем вопросе меня смущает.\", inplace=True)"
   ]
  },
  {
   "cell_type": "code",
   "execution_count": 11,
   "metadata": {},
   "outputs": [
    {
     "data": {
      "text/html": [
       "<div>\n",
       "<style scoped>\n",
       "    .dataframe tbody tr th:only-of-type {\n",
       "        vertical-align: middle;\n",
       "    }\n",
       "\n",
       "    .dataframe tbody tr th {\n",
       "        vertical-align: top;\n",
       "    }\n",
       "\n",
       "    .dataframe thead th {\n",
       "        text-align: right;\n",
       "    }\n",
       "</style>\n",
       "<table border=\"1\" class=\"dataframe\">\n",
       "  <thead>\n",
       "    <tr style=\"text-align: right;\">\n",
       "      <th></th>\n",
       "      <th>user_prompt</th>\n",
       "      <th>system_prompt</th>\n",
       "      <th>gigachat_max_pred</th>\n",
       "    </tr>\n",
       "  </thead>\n",
       "  <tbody>\n",
       "    <tr>\n",
       "      <th>1115</th>\n",
       "      <td>Заголовок новости: Продавленная кнопка. Cодерж...</td>\n",
       "      <td>\\nПроанализируй заголовок новости в контексте ...</td>\n",
       "      <td>в заголовке нет игры слов.</td>\n",
       "    </tr>\n",
       "  </tbody>\n",
       "</table>\n",
       "</div>"
      ],
      "text/plain": [
       "                                            user_prompt  \\\n",
       "1115  Заголовок новости: Продавленная кнопка. Cодерж...   \n",
       "\n",
       "                                          system_prompt  \\\n",
       "1115  \\nПроанализируй заголовок новости в контексте ...   \n",
       "\n",
       "               gigachat_max_pred  \n",
       "1115  в заголовке нет игры слов.  "
      ]
     },
     "execution_count": 11,
     "metadata": {},
     "output_type": "execute_result"
    }
   ],
   "source": [
    "df_gigachat_max.sample(1)"
   ]
  },
  {
   "cell_type": "code",
   "execution_count": 12,
   "metadata": {},
   "outputs": [],
   "source": [
    "df_yagpt = pd.read_json(\n",
    "    os.path.join(\n",
    "        PROJECT_PATH,\n",
    "        \"Data/predictions/wordplay_interpretation_yandex_gpt4_predictions_extended.json\"\n",
    "    ),\n",
    "    orient=\"index\"\n",
    ")"
   ]
  },
  {
   "cell_type": "code",
   "execution_count": 13,
   "metadata": {},
   "outputs": [
    {
     "data": {
      "text/html": [
       "<div>\n",
       "<style scoped>\n",
       "    .dataframe tbody tr th:only-of-type {\n",
       "        vertical-align: middle;\n",
       "    }\n",
       "\n",
       "    .dataframe tbody tr th {\n",
       "        vertical-align: top;\n",
       "    }\n",
       "\n",
       "    .dataframe thead th {\n",
       "        text-align: right;\n",
       "    }\n",
       "</style>\n",
       "<table border=\"1\" class=\"dataframe\">\n",
       "  <thead>\n",
       "    <tr style=\"text-align: right;\">\n",
       "      <th></th>\n",
       "      <th>user_prompt</th>\n",
       "      <th>system_prompt</th>\n",
       "      <th>yagpt_pred</th>\n",
       "    </tr>\n",
       "  </thead>\n",
       "  <tbody>\n",
       "    <tr>\n",
       "      <th>1378</th>\n",
       "      <td>Заголовок новости: Мирные уговоры. Cодержание ...</td>\n",
       "      <td>\\nПроанализируй заголовок новости в контексте ...</td>\n",
       "      <td>в интернете есть много сайтов с информацией на...</td>\n",
       "    </tr>\n",
       "  </tbody>\n",
       "</table>\n",
       "</div>"
      ],
      "text/plain": [
       "                                            user_prompt  \\\n",
       "1378  Заголовок новости: Мирные уговоры. Cодержание ...   \n",
       "\n",
       "                                          system_prompt  \\\n",
       "1378  \\nПроанализируй заголовок новости в контексте ...   \n",
       "\n",
       "                                             yagpt_pred  \n",
       "1378  в интернете есть много сайтов с информацией на...  "
      ]
     },
     "execution_count": 13,
     "metadata": {},
     "output_type": "execute_result"
    }
   ],
   "source": [
    "df_yagpt.sample(1)"
   ]
  },
  {
   "cell_type": "code",
   "execution_count": 14,
   "metadata": {},
   "outputs": [],
   "source": [
    "df_mistral = pd.read_json(\n",
    "    os.path.join(\n",
    "        PROJECT_PATH,\n",
    "        \"Data/predictions/wordplay_interpretation_mistral_nemo_predictions_extended.json\"\n",
    "    ),\n",
    "    orient=\"index\"\n",
    ")\n",
    "\n",
    "def clear_mistral_prediction(text_pred):\n",
    "    \n",
    "    text = text_pred[0][\"generated_text\"][-1][\"content\"]\n",
    "\n",
    "    return text\n",
    "\n",
    "df_mistral[\"mistral_nemo_preds\"] = df_mistral[\"mistral_nemo_preds\"].apply(clear_mistral_prediction)"
   ]
  },
  {
   "cell_type": "code",
   "execution_count": 15,
   "metadata": {},
   "outputs": [
    {
     "data": {
      "text/html": [
       "<div>\n",
       "<style scoped>\n",
       "    .dataframe tbody tr th:only-of-type {\n",
       "        vertical-align: middle;\n",
       "    }\n",
       "\n",
       "    .dataframe tbody tr th {\n",
       "        vertical-align: top;\n",
       "    }\n",
       "\n",
       "    .dataframe thead th {\n",
       "        text-align: right;\n",
       "    }\n",
       "</style>\n",
       "<table border=\"1\" class=\"dataframe\">\n",
       "  <thead>\n",
       "    <tr style=\"text-align: right;\">\n",
       "      <th></th>\n",
       "      <th>user_prompt</th>\n",
       "      <th>system_prompt</th>\n",
       "      <th>mistral_nemo_preds</th>\n",
       "    </tr>\n",
       "  </thead>\n",
       "  <tbody>\n",
       "    <tr>\n",
       "      <th>2005</th>\n",
       "      <td>Заголовок новости: Неуходящая натура. Cодержан...</td>\n",
       "      <td>\\nПроанализируй заголовок новости в контексте ...</td>\n",
       "      <td>В заголовке новости \"Неуходящая натура. Открыв...</td>\n",
       "    </tr>\n",
       "  </tbody>\n",
       "</table>\n",
       "</div>"
      ],
      "text/plain": [
       "                                            user_prompt  \\\n",
       "2005  Заголовок новости: Неуходящая натура. Cодержан...   \n",
       "\n",
       "                                          system_prompt  \\\n",
       "2005  \\nПроанализируй заголовок новости в контексте ...   \n",
       "\n",
       "                                     mistral_nemo_preds  \n",
       "2005  В заголовке новости \"Неуходящая натура. Открыв...  "
      ]
     },
     "execution_count": 15,
     "metadata": {},
     "output_type": "execute_result"
    }
   ],
   "source": [
    "df_mistral.sample(1)"
   ]
  },
  {
   "cell_type": "code",
   "execution_count": 16,
   "metadata": {},
   "outputs": [],
   "source": [
    "df_gpt4o = pd.read_json(\n",
    "    os.path.join(\n",
    "        PROJECT_PATH,\n",
    "        \"Data/predictions/wordplay_interpretation_gpt_4o_predictions_extended.json\"\n",
    "    ),\n",
    "    orient=\"index\"\n",
    ")"
   ]
  },
  {
   "cell_type": "code",
   "execution_count": 17,
   "metadata": {},
   "outputs": [],
   "source": [
    "df_gpt4o_prompt = pd.read_json(\"/home/alex/KoWit-24_public/Data/processed_data/dataset_wordplay_interpretation_propmts_extended.json\", orient=\"index\")\n",
    "df_gpt4o_prompt[\"task_id\"] = df_gpt4o_prompt.index"
   ]
  },
  {
   "cell_type": "code",
   "execution_count": 18,
   "metadata": {},
   "outputs": [],
   "source": [
    "df_gpt4o = df_gpt4o.merge(df_gpt4o_prompt, how=\"left\", on=\"task_id\")"
   ]
  },
  {
   "cell_type": "code",
   "execution_count": 19,
   "metadata": {},
   "outputs": [],
   "source": [
    "def extract_headline_from_user_prompt(text):\n",
    "    idx = text.find(\"Cодержание новости:\")\n",
    "    return text[19:idx-2]"
   ]
  },
  {
   "cell_type": "code",
   "execution_count": 20,
   "metadata": {},
   "outputs": [],
   "source": [
    "def extract_lead_from_user_prompt(text):\n",
    "    idx = text.find(\"Cодержание новости:\")\n",
    "    return text[idx+20:]"
   ]
  },
  {
   "cell_type": "code",
   "execution_count": 21,
   "metadata": {},
   "outputs": [],
   "source": [
    "df_gigachat_lite[\"headline\"] = df_gigachat_lite[\"user_prompt\"].apply(extract_headline_from_user_prompt)\n",
    "df_gigachat_lite[\"lead\"] = df_gigachat_lite[\"user_prompt\"].apply(extract_lead_from_user_prompt)\n",
    "\n",
    "df_gigachat_max[\"headline\"] = df_gigachat_max[\"user_prompt\"].apply(extract_headline_from_user_prompt)\n",
    "df_gigachat_max[\"lead\"] = df_gigachat_max[\"user_prompt\"].apply(extract_lead_from_user_prompt)\n",
    "\n",
    "df_yagpt[\"headline\"] = df_yagpt[\"user_prompt\"].apply(extract_headline_from_user_prompt)\n",
    "df_yagpt[\"lead\"] = df_yagpt[\"user_prompt\"].apply(extract_lead_from_user_prompt)\n",
    "\n",
    "df_mistral[\"headline\"] = df_mistral[\"user_prompt\"].apply(extract_headline_from_user_prompt)\n",
    "df_mistral[\"lead\"] = df_mistral[\"user_prompt\"].apply(extract_lead_from_user_prompt)\n",
    "\n",
    "df_gpt4o[\"headline\"] = df_gpt4o[\"user_prompt\"].apply(extract_headline_from_user_prompt)\n",
    "df_gpt4o[\"lead\"] = df_gpt4o[\"user_prompt\"].apply(extract_lead_from_user_prompt)"
   ]
  },
  {
   "cell_type": "code",
   "execution_count": 22,
   "metadata": {},
   "outputs": [],
   "source": [
    "dataset = pd.merge(dataset, df_gigachat_lite[[\"headline\", \"lead\", \"gigachat_lite_preds\"]], on=[\"headline\", \"lead\"])\n",
    "dataset = pd.merge(dataset, df_gigachat_max[[\"headline\", \"lead\", \"gigachat_max_pred\"]], on=[\"headline\", \"lead\"])\n",
    "dataset = pd.merge(dataset, df_yagpt[[\"headline\", \"lead\", \"yagpt_pred\"]], on=[\"headline\", \"lead\"])\n",
    "dataset = pd.merge(dataset, df_mistral[[\"headline\", \"lead\", \"mistral_nemo_preds\"]], on=[\"headline\", \"lead\"])\n",
    "dataset = pd.merge(dataset, df_gpt4o[[\"gpt4o_explain\"]], left_index=True, right_index=True)"
   ]
  },
  {
   "cell_type": "code",
   "execution_count": 23,
   "metadata": {},
   "outputs": [
    {
     "name": "stdout",
     "output_type": "stream",
     "text": [
      "(2500, 12)\n"
     ]
    }
   ],
   "source": [
    "print(dataset.shape)"
   ]
  },
  {
   "cell_type": "code",
   "execution_count": 24,
   "metadata": {},
   "outputs": [
    {
     "data": {
      "text/html": [
       "<div>\n",
       "<style scoped>\n",
       "    .dataframe tbody tr th:only-of-type {\n",
       "        vertical-align: middle;\n",
       "    }\n",
       "\n",
       "    .dataframe tbody tr th {\n",
       "        vertical-align: top;\n",
       "    }\n",
       "\n",
       "    .dataframe thead th {\n",
       "        text-align: right;\n",
       "    }\n",
       "</style>\n",
       "<table border=\"1\" class=\"dataframe\">\n",
       "  <thead>\n",
       "    <tr style=\"text-align: right;\">\n",
       "      <th></th>\n",
       "      <th>annotations</th>\n",
       "      <th>summary</th>\n",
       "      <th>is_wordplay</th>\n",
       "      <th>date</th>\n",
       "      <th>article_url</th>\n",
       "      <th>headline</th>\n",
       "      <th>lead</th>\n",
       "      <th>gigachat_lite_preds</th>\n",
       "      <th>gigachat_max_pred</th>\n",
       "      <th>yagpt_pred</th>\n",
       "      <th>mistral_nemo_preds</th>\n",
       "      <th>gpt4o_explain</th>\n",
       "    </tr>\n",
       "  </thead>\n",
       "  <tbody>\n",
       "    <tr>\n",
       "      <th>0</th>\n",
       "      <td>None</td>\n",
       "      <td>Жилищный нацпроект помимо количественных целей...</td>\n",
       "      <td>False</td>\n",
       "      <td>2021-12-16</td>\n",
       "      <td>https://www.kommersant.ru/doc/5130217</td>\n",
       "      <td>Комфортная среда</td>\n",
       "      <td>Городскую среду улучшают с учетом мнения жителей</td>\n",
       "      <td>В заголовке новости \"Комфортная среда\" нет игр...</td>\n",
       "      <td>в заголовке нет игры слов.</td>\n",
       "      <td>в заголовке нет игры слов.</td>\n",
       "      <td>В заголовке новости \"Комфортная среда\" нет игр...</td>\n",
       "      <td>в заголовке нет игры слов</td>\n",
       "    </tr>\n",
       "  </tbody>\n",
       "</table>\n",
       "</div>"
      ],
      "text/plain": [
       "  annotations                                            summary  is_wordplay  \\\n",
       "0        None  Жилищный нацпроект помимо количественных целей...        False   \n",
       "\n",
       "         date                            article_url          headline  \\\n",
       "0  2021-12-16  https://www.kommersant.ru/doc/5130217  Комфортная среда   \n",
       "\n",
       "                                               lead  \\\n",
       "0  Городскую среду улучшают с учетом мнения жителей   \n",
       "\n",
       "                                 gigachat_lite_preds  \\\n",
       "0  В заголовке новости \"Комфортная среда\" нет игр...   \n",
       "\n",
       "            gigachat_max_pred                  yagpt_pred  \\\n",
       "0  в заголовке нет игры слов.  в заголовке нет игры слов.   \n",
       "\n",
       "                                  mistral_nemo_preds  \\\n",
       "0  В заголовке новости \"Комфортная среда\" нет игр...   \n",
       "\n",
       "               gpt4o_explain  \n",
       "0  в заголовке нет игры слов  "
      ]
     },
     "execution_count": 24,
     "metadata": {},
     "output_type": "execute_result"
    }
   ],
   "source": [
    "dataset.head(1)"
   ]
  },
  {
   "cell_type": "code",
   "execution_count": 25,
   "metadata": {},
   "outputs": [],
   "source": [
    "dataset = dataset.dropna(subset=[\"annotations\"])"
   ]
  },
  {
   "cell_type": "code",
   "execution_count": 26,
   "metadata": {},
   "outputs": [
    {
     "data": {
      "text/plain": [
       "(1241, 12)"
      ]
     },
     "execution_count": 26,
     "metadata": {},
     "output_type": "execute_result"
    }
   ],
   "source": [
    "dataset.shape"
   ]
  },
  {
   "cell_type": "code",
   "execution_count": 27,
   "metadata": {},
   "outputs": [],
   "source": [
    "EXPLIAN_COLUMNS = [\"gigachat_lite_preds\", \"gigachat_max_pred\", \"yagpt_pred\", \"mistral_nemo_preds\", \"gpt4o_explain\"]\n",
    "\n",
    "for explain_column in EXPLIAN_COLUMNS:\n",
    "    dataset[f\"{explain_column}_search_results\"] = dataset.apply(\n",
    "        lambda row: check_interpretation(\n",
    "            row[\"annotations\"], row[explain_column]\n",
    "        ),\n",
    "        axis=1\n",
    "    )"
   ]
  },
  {
   "cell_type": "code",
   "execution_count": 28,
   "metadata": {},
   "outputs": [
    {
     "name": "stdout",
     "output_type": "stream",
     "text": [
      "gigachat_lite_preds 207\n",
      "gigachat_max_pred 207\n",
      "yagpt_pred 207\n",
      "mistral_nemo_preds 207\n",
      "gpt4o_explain 207\n"
     ]
    }
   ],
   "source": [
    "for explain_column in EXPLIAN_COLUMNS:\n",
    "    print(explain_column, dataset[f\"{explain_column}_search_results\"].isna().sum())"
   ]
  },
  {
   "cell_type": "code",
   "execution_count": 32,
   "metadata": {},
   "outputs": [],
   "source": [
    "res_ = dataset[[f\"{t}_search_results\" for t in EXPLIAN_COLUMNS]].dropna().sum() / len(dataset.dropna())"
   ]
  },
  {
   "cell_type": "code",
   "execution_count": 45,
   "metadata": {},
   "outputs": [
    {
     "data": {
      "text/plain": [
       "gigachat_lite_preds_search_results    0.21\n",
       "gigachat_max_pred_search_results      0.30\n",
       "yagpt_pred_search_results             0.24\n",
       "mistral_nemo_preds_search_results     0.32\n",
       "gpt4o_explain_search_results          0.45\n",
       "Name: 0, dtype: float64"
      ]
     },
     "execution_count": 45,
     "metadata": {},
     "output_type": "execute_result"
    }
   ],
   "source": [
    "pd.DataFrame(res_)[0].astype(float).round(2)"
   ]
  },
  {
   "cell_type": "code",
   "execution_count": null,
   "metadata": {},
   "outputs": [],
   "source": []
  }
 ],
 "metadata": {
  "kernelspec": {
   "display_name": "general_venv",
   "language": "python",
   "name": "general_venv"
  },
  "language_info": {
   "codemirror_mode": {
    "name": "ipython",
    "version": 3
   },
   "file_extension": ".py",
   "mimetype": "text/x-python",
   "name": "python",
   "nbconvert_exporter": "python",
   "pygments_lexer": "ipython3",
   "version": "3.10.12"
  }
 },
 "nbformat": 4,
 "nbformat_minor": 2
}
